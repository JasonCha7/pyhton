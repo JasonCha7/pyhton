{
  "nbformat": 4,
  "nbformat_minor": 0,
  "metadata": {
    "kernelspec": {
      "display_name": "Python 3",
      "language": "python",
      "name": "python3"
    },
    "language_info": {
      "codemirror_mode": {
        "name": "ipython",
        "version": 3
      },
      "file_extension": ".py",
      "mimetype": "text/x-python",
      "name": "python",
      "nbconvert_exporter": "python",
      "pygments_lexer": "ipython3",
      "version": "3.6.6"
    },
    "colab": {
      "provenance": [],
      "include_colab_link": true
    }
  },
  "cells": [
    {
      "cell_type": "markdown",
      "metadata": {
        "id": "view-in-github",
        "colab_type": "text"
      },
      "source": [
        "<a href=\"https://colab.research.google.com/github/JasonCha7/pyhton/blob/main/WriteFile(%ED%95%99%EC%83%9D%EC%9A%A9)2024149753_%EC%B0%A8%EA%B2%BD%ED%9B%88.ipynb\" target=\"_parent\"><img src=\"https://colab.research.google.com/assets/colab-badge.svg\" alt=\"Open In Colab\"/></a>"
      ]
    },
    {
      "cell_type": "markdown",
      "metadata": {
        "id": "42MVnk4tbl2I"
      },
      "source": [
        "<h1>Write and Save Files in Python</h1>"
      ]
    },
    {
      "cell_type": "markdown",
      "metadata": {
        "id": "XR5RCQ83bl2I"
      },
      "source": [
        "<p><strong>Welcome!</strong> This notebook will teach you about write the text to file in the Python Programming Language. By the end of this lab, you'll know how to write to file and copy the file.</p>"
      ]
    },
    {
      "cell_type": "markdown",
      "metadata": {
        "id": "ZIcs4ZTDbl2J"
      },
      "source": [
        "<h2 id=\"write\">Writing Files</h2>"
      ]
    },
    {
      "cell_type": "markdown",
      "metadata": {
        "id": "CF3i1QhZbl2K"
      },
      "source": [
        " We can open a file object using the method <code>write()</code> to save the text file to a list. To write the mode, argument must be set to write <b>w</b>. Let’s write a file <b>example2.txt</b> with the line: <b>“This is line A”</b>"
      ]
    },
    {
      "cell_type": "code",
      "metadata": {
        "id": "aYKRvAC-bxwU",
        "colab": {
          "base_uri": "https://localhost:8080/"
        },
        "outputId": "916caa70-c946-4de4-bd09-0714f1da75a5"
      },
      "source": [
        "from google.colab import drive\n",
        "drive.mount('/content/gdrive')"
      ],
      "execution_count": 15,
      "outputs": [
        {
          "output_type": "stream",
          "name": "stdout",
          "text": [
            "Drive already mounted at /content/gdrive; to attempt to forcibly remount, call drive.mount(\"/content/gdrive\", force_remount=True).\n"
          ]
        }
      ]
    },
    {
      "cell_type": "code",
      "metadata": {
        "id": "vZSTGB0Nbl2L"
      },
      "source": [
        "# Write line to file\n",
        "\n",
        "with open('/content/gdrive/My Drive/Colab Notebooks/example2.txt', 'w') as writefile:\n",
        "    writefile.write(\"This is line A\")"
      ],
      "execution_count": 16,
      "outputs": []
    },
    {
      "cell_type": "markdown",
      "metadata": {
        "id": "B7ywmRYCbl2O"
      },
      "source": [
        " We can read the file to see if it worked:"
      ]
    },
    {
      "cell_type": "code",
      "metadata": {
        "id": "9rKLqRV4bl2P",
        "colab": {
          "base_uri": "https://localhost:8080/"
        },
        "outputId": "4b25f2f9-862a-40e5-93c3-19d4b875061b"
      },
      "source": [
        "# Read file\n",
        "\n",
        "with open('/content/gdrive/My Drive/Colab Notebooks/example2.txt', 'r') as testwritefile:\n",
        "    print(testwritefile.read())"
      ],
      "execution_count": 17,
      "outputs": [
        {
          "output_type": "stream",
          "name": "stdout",
          "text": [
            "This is line A\n"
          ]
        }
      ]
    },
    {
      "cell_type": "markdown",
      "metadata": {
        "id": "1ECLFfrubl2R"
      },
      "source": [
        "We can write multiple lines:"
      ]
    },
    {
      "cell_type": "code",
      "metadata": {
        "id": "FJgIdzzIbl2S"
      },
      "source": [
        "# Write lines to file\n",
        "\n",
        "with open('/content/gdrive/My Drive/Colab Notebooks/example10.txt', 'w') as writefile:\n",
        "    writefile.write(\"This is line A\\n\")\n",
        "    writefile.write(\"This is line B\\n\")\n",
        "    writefile.write(\"This is line 10\\n\")"
      ],
      "execution_count": 18,
      "outputs": []
    },
    {
      "cell_type": "markdown",
      "metadata": {
        "id": "nKSO8afNbl2U"
      },
      "source": [
        "The method <code>.write()</code> works similar to the method <code>.readline()</code>, except instead of reading a new line it writes a new line. The process is illustrated in the figure , the different colour coding of the grid represents a new line added to the file after each method call."
      ]
    },
    {
      "cell_type": "markdown",
      "metadata": {
        "id": "ZQtEkttnbl2V"
      },
      "source": [
        "<img src=\"https://s3-api.us-geo.objectstorage.softlayer.net/cf-courses-data/CognitiveClass/PY0101EN/Chapter%204/Images/WriteLine.png\" width=\"500\" />"
      ]
    },
    {
      "cell_type": "markdown",
      "metadata": {
        "id": "LvJAu2n8bl2V"
      },
      "source": [
        "You can check the file to see if your results are correct"
      ]
    },
    {
      "cell_type": "code",
      "metadata": {
        "id": "EQBM_Ynabl2W",
        "colab": {
          "base_uri": "https://localhost:8080/"
        },
        "outputId": "9ad709a6-aade-43c2-d5c3-8aad0420fb36"
      },
      "source": [
        "# Check whether write to file\n",
        "\n",
        "with open('/content/gdrive/My Drive/Colab Notebooks/example2.txt', 'r') as testwritefile:\n",
        "    print(testwritefile.read())"
      ],
      "execution_count": 19,
      "outputs": [
        {
          "output_type": "stream",
          "name": "stdout",
          "text": [
            "This is line A\n"
          ]
        }
      ]
    },
    {
      "cell_type": "markdown",
      "metadata": {
        "id": "2JpmxZ8lbl2Y"
      },
      "source": [
        " By setting the mode argument to append **a**  you can append a new line as follows:"
      ]
    },
    {
      "cell_type": "code",
      "metadata": {
        "id": "lO4FG7G0bl2Z"
      },
      "source": [
        "# Write a new line to text file\n",
        "\n",
        "with open('/content/gdrive/My Drive/Colab Notebooks/example2.txt', 'a') as testwritefile:\n",
        "    testwritefile.write(\"This is line C\\n\")"
      ],
      "execution_count": 20,
      "outputs": []
    },
    {
      "cell_type": "markdown",
      "metadata": {
        "id": "KXsBtnp6bl2c"
      },
      "source": [
        " You can verify the file has changed by running the following cell:"
      ]
    },
    {
      "cell_type": "code",
      "metadata": {
        "id": "QR21o9UVbl2c",
        "colab": {
          "base_uri": "https://localhost:8080/"
        },
        "outputId": "7e16f603-fdac-4cfd-80fe-89b40e32ea93"
      },
      "source": [
        "# Verify if the new line is in the text file\n",
        "\n",
        "with open('/content/gdrive/My Drive/Colab Notebooks/example2.txt', 'r') as testwritefile:\n",
        "    print(testwritefile.read())"
      ],
      "execution_count": 21,
      "outputs": [
        {
          "output_type": "stream",
          "name": "stdout",
          "text": [
            "This is line AThis is line C\n",
            "\n"
          ]
        }
      ]
    },
    {
      "cell_type": "markdown",
      "metadata": {
        "id": "LLbnpgkabl2f"
      },
      "source": [
        " We write a list to a <b>.txt</b> file  as follows:"
      ]
    },
    {
      "cell_type": "code",
      "metadata": {
        "id": "0DSXx_v1bl2f",
        "colab": {
          "base_uri": "https://localhost:8080/"
        },
        "outputId": "055471a3-ce13-4924-d3f5-aedae7afe4a9"
      },
      "source": [
        "# Sample list of text\n",
        "\n",
        "Lines = [\"This is line A\\n\", \"This is line B\\n\", \"This is line C\\n\"]\n",
        "Lines"
      ],
      "execution_count": 22,
      "outputs": [
        {
          "output_type": "execute_result",
          "data": {
            "text/plain": [
              "['This is line A\\n', 'This is line B\\n', 'This is line C\\n']"
            ]
          },
          "metadata": {},
          "execution_count": 22
        }
      ]
    },
    {
      "cell_type": "code",
      "metadata": {
        "id": "DB55tALYbl2h",
        "colab": {
          "base_uri": "https://localhost:8080/"
        },
        "outputId": "6522feb6-085c-4437-8af3-245b6fbeaee1"
      },
      "source": [
        "# Write the strings in the list to text file\n",
        "\n",
        "with open('/content/gdrive/My Drive/Colab Notebooks/example11.txt', 'w') as writefile:\n",
        "    for line in Lines:\n",
        "        print(line)\n",
        "        writefile.write(line)"
      ],
      "execution_count": 23,
      "outputs": [
        {
          "output_type": "stream",
          "name": "stdout",
          "text": [
            "This is line A\n",
            "\n",
            "This is line B\n",
            "\n",
            "This is line C\n",
            "\n"
          ]
        }
      ]
    },
    {
      "cell_type": "markdown",
      "metadata": {
        "id": "gDSC2r5Gbl2l"
      },
      "source": [
        " We can verify the file is written by reading it and printing out the values:  "
      ]
    },
    {
      "cell_type": "code",
      "metadata": {
        "id": "VkvMQbG0bl2l",
        "colab": {
          "base_uri": "https://localhost:8080/"
        },
        "outputId": "775aa7d9-9404-4bc5-ec9a-f672c01504ad"
      },
      "source": [
        "# Verify if writing to file is successfully executed\n",
        "\n",
        "with open('/content/gdrive/My Drive/Colab Notebooks/example11.txt', 'r') as testwritefile:\n",
        "    print(testwritefile.read())"
      ],
      "execution_count": 24,
      "outputs": [
        {
          "output_type": "stream",
          "name": "stdout",
          "text": [
            "This is line A\n",
            "This is line B\n",
            "This is line C\n",
            "\n"
          ]
        }
      ]
    },
    {
      "cell_type": "markdown",
      "metadata": {
        "id": "bHBZWeAmbl2n"
      },
      "source": [
        "We can again append to the file by changing the second parameter to <b>a</b>. This adds the code:"
      ]
    },
    {
      "cell_type": "code",
      "metadata": {
        "id": "pckArKDibl2o"
      },
      "source": [
        "# Append the line to the file\n",
        "\n",
        "with open('/content/gdrive/My Drive/Colab Notebooks/example11.txt', 'a') as testwritefile:\n",
        "    testwritefile.write(\"This is line D\\n\")"
      ],
      "execution_count": 25,
      "outputs": []
    },
    {
      "cell_type": "markdown",
      "metadata": {
        "id": "d3Z87L3jbl2q"
      },
      "source": [
        "We can see the results of appending the file:"
      ]
    },
    {
      "cell_type": "code",
      "metadata": {
        "id": "tijFPWqHbl2q",
        "colab": {
          "base_uri": "https://localhost:8080/"
        },
        "outputId": "db2cb6fb-451a-4b21-ff02-904f599d51ec"
      },
      "source": [
        "# Verify if the appending is successfully executed\n",
        "\n",
        "with open('/content/gdrive/My Drive/Colab Notebooks/example3.txt', 'r') as testwritefile:\n",
        "    print(testwritefile.read())"
      ],
      "execution_count": 26,
      "outputs": [
        {
          "output_type": "stream",
          "name": "stdout",
          "text": [
            "\n"
          ]
        }
      ]
    },
    {
      "cell_type": "markdown",
      "metadata": {
        "id": "WGeY8VuZbl2s"
      },
      "source": [
        "<hr>"
      ]
    },
    {
      "cell_type": "markdown",
      "metadata": {
        "id": "5mndIszabl2s"
      },
      "source": [
        "<h2 id=\"copy\">Copy a File</h2>"
      ]
    },
    {
      "cell_type": "markdown",
      "metadata": {
        "id": "JOISv-n8bl2t"
      },
      "source": [
        "Let's copy the file <b>Example11.txt</b> to the file <b>Example12.txt</b>:"
      ]
    },
    {
      "cell_type": "code",
      "metadata": {
        "id": "lxgmlnnMbl2t"
      },
      "source": [
        "# Copy file to another\n",
        "\n",
        "with open('/content/gdrive/My Drive/Colab Notebooks/example11.txt','r') as readfile:\n",
        "    with open('/content/gdrive/My Drive/Colab Notebooks/example12.txt','w') as writefile:\n",
        "          for line in readfile:\n",
        "                writefile.write(line)"
      ],
      "execution_count": 27,
      "outputs": []
    },
    {
      "cell_type": "markdown",
      "metadata": {
        "id": "xPLruqWRbl2x"
      },
      "source": [
        "We can read the file to see if everything works:"
      ]
    },
    {
      "cell_type": "code",
      "metadata": {
        "id": "HIVsEvjbbl2x",
        "colab": {
          "base_uri": "https://localhost:8080/"
        },
        "outputId": "e47302df-3654-40f2-c91b-240dd0c6e7ba"
      },
      "source": [
        "# Verify if the copy is successfully executed\n",
        "\n",
        "with open('/content/gdrive/My Drive/Colab Notebooks/example12.txt','r') as testwritefile:\n",
        "    print(testwritefile.read())"
      ],
      "execution_count": 28,
      "outputs": [
        {
          "output_type": "stream",
          "name": "stdout",
          "text": [
            "This is line A\n",
            "This is line B\n",
            "This is line C\n",
            "This is line D\n",
            "\n"
          ]
        }
      ]
    },
    {
      "cell_type": "code",
      "source": [
        "\n",
        "with open('/content/gdrive/My Drive/Colab Notebooks/example12.txt','r') as testwritefile:\n",
        "    print(testwritefile.read())"
      ],
      "metadata": {
        "colab": {
          "base_uri": "https://localhost:8080/"
        },
        "id": "PPAmTuuw8925",
        "outputId": "2a4ef64c-e121-496b-f05b-faa9016b8a88"
      },
      "execution_count": 29,
      "outputs": [
        {
          "output_type": "stream",
          "name": "stdout",
          "text": [
            "This is line A\n",
            "This is line B\n",
            "This is line C\n",
            "This is line D\n",
            "\n"
          ]
        }
      ]
    },
    {
      "cell_type": "markdown",
      "metadata": {
        "id": "vygf_Uuvbl20"
      },
      "source": [
        " After reading files, we can also write data into files and save them in different file formats like **.txt, .csv, .xls (for excel files) etc**. Let's take a look at some examples."
      ]
    },
    {
      "cell_type": "markdown",
      "metadata": {
        "id": "SN76RISObl20"
      },
      "source": [
        "Now go to the directory to ensure the <b>.txt</b> file exists and contains the summary data that we wrote."
      ]
    },
    {
      "cell_type": "markdown",
      "metadata": {
        "id": "s3Vv2FZwbl20"
      },
      "source": [
        "<hr>\n",
        "<h2>The last exercise!</h2>\n",
        "<p>Congratulations, you have completed your first lesson and hands-on lab in Python. However, there is one more thing you need to do. The Data Science community encourages sharing work. The best way to share and showcase your work is to share it on GitHub. By sharing your notebook on GitHub you are not only building your reputation with fellow data scientists, but you can also show it off when applying for a job. Even though this was your first piece of work, it is never too early to start building good habits. Please submit all your exercises to Github & let the traces in our LMS, so for me to access your work\n",
        "<hr>"
      ]
    },
    {
      "cell_type": "markdown",
      "metadata": {
        "id": "GdHtaqELbl23"
      },
      "source": [
        "<hr>"
      ]
    },
    {
      "cell_type": "markdown",
      "metadata": {
        "id": "WtZHxuigbl23"
      },
      "source": [
        "<p>Copyright &copy; 2023 RYU HOKYOUNG based on 2018 IBM Developer Skills Network. This notebook and its source code are released under the terms of the <a href=\"https://cognitiveclass.ai/mit-license/\">MIT License</a>.</p>"
      ]
    }
  ]
}